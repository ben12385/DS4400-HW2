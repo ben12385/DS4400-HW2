{
 "cells": [
  {
   "cell_type": "code",
   "execution_count": 1,
   "metadata": {},
   "outputs": [
    {
     "name": "stdout",
     "output_type": "stream",
     "text": [
      "Data Preped\n"
     ]
    }
   ],
   "source": [
    "#Extract Data\n",
    "import numpy as np\n",
    "import random\n",
    "import copy\n",
    "\n",
    "datasetFile = open('./spambase.data', 'r')\n",
    "\n",
    "spam = list()\n",
    "notSpam = list()\n",
    "\n",
    "\n",
    "for line in datasetFile:\n",
    "    splitedLine = line.split(',')\n",
    "    for a in range(0, len(splitedLine)):\n",
    "        splitedLine[a] = float(splitedLine[a])\n",
    "    if(splitedLine[-1] == 1):\n",
    "        spam.append(splitedLine)\n",
    "    else:\n",
    "        notSpam.append(splitedLine)\n",
    "\n",
    "#Randomize\n",
    "random.shuffle(spam)\n",
    "random.shuffle(notSpam)\n",
    "\n",
    "training = copy.deepcopy(spam[0:1359])\n",
    "\n",
    "notSpamTraining = copy.deepcopy(notSpam[0:2091])\n",
    "training.extend(notSpamTraining)\n",
    "\n",
    "testing = copy.deepcopy(spam[1359:-1])\n",
    "\n",
    "notSpamTesting = copy.deepcopy(notSpam[2091:-1])\n",
    "testing.extend(notSpamTesting)\n",
    "\n",
    "random.shuffle(training)\n",
    "random.shuffle(testing)\n",
    "\n",
    "trainingX = list()\n",
    "trainingY = list()\n",
    "for row in training:\n",
    "    trainingX.append(row[:-1])\n",
    "    trainingY.append(row[-1])\n",
    "trainingX = np.array(trainingX)\n",
    "\n",
    "\n",
    "trainingY = np.array(trainingY)\n",
    "    \n",
    "trainingX = np.array([row[:-1] for row in training])\n",
    "trainingY = np.array([row[-1] for row in training])\n",
    "\n",
    "testingX = np.array([row[:-1] for row in testing])\n",
    "testingY = np.array([row[-1] for row in testing])\n",
    "\n",
    "print(\"Data Preped\")"
   ]
  },
  {
   "cell_type": "code",
   "execution_count": 52,
   "metadata": {},
   "outputs": [
    {
     "name": "stdout",
     "output_type": "stream",
     "text": [
      "Accuracy 0.80244 for KNN=2\n",
      "Accuracy 0.80940 for KNN=3\n",
      "Accuracy 0.78590 for KNN=4\n",
      "Accuracy 0.78938 for KNN=5\n",
      "Accuracy 0.77981 for KNN=6\n",
      "Accuracy 0.78590 for KNN=7\n",
      "Accuracy 0.77633 for KNN=8\n",
      "Accuracy 0.78677 for KNN=9\n"
     ]
    }
   ],
   "source": [
    "#kNN implementation\n",
    "import numpy as np\n",
    "import copy\n",
    "from sklearn import metrics\n",
    "\n",
    "def calDistance(x, y):\n",
    "    return np.sum(np.square(x-y))\n",
    "\n",
    "def test(testValue, trainingX, trainingY, kValue):\n",
    "    trainingX = copy.deepcopy(trainingX)\n",
    "    trainingY = copy.deepcopy(trainingY)\n",
    "    \n",
    "    testValue = np.array(testValue)\n",
    "    trainingDistance = list()\n",
    "    for example in trainingX:\n",
    "        training = np.array(example)\n",
    "        trainingDistance.append(calDistance(training, testValue))\n",
    "    \n",
    "    listOfValue = list()\n",
    "    for a in range(0, kValue):\n",
    "        index = np.argmin(trainingDistance)\n",
    "        listOfValue.append(trainingY[index])\n",
    "        trainingDistance = np.delete(trainingDistance, index)\n",
    "        trainingY = np.delete(trainingY, index)\n",
    "        \n",
    "    \n",
    "    totalSum = np.sum(listOfValue)\n",
    "    if(totalSum > (kValue/2)):\n",
    "        return 1\n",
    "    else:\n",
    "        return 0\n",
    "\n",
    "for a in range(2, 10):\n",
    "    y_pred = list()\n",
    "    for testValue in testingX:\n",
    "        pred = test(testValue, trainingX, trainingY, a)\n",
    "        y_pred.append(pred)\n",
    "    \n",
    "    confMatrix = metrics.confusion_matrix(testingY, y_pred)  \n",
    "    accuracy = (confMatrix[1][1]+confMatrix[0][0])/len(y_pred)\n",
    "    print(\"Accuracy %.5f for KNN=%d\" % (accuracy,a))    "
   ]
  },
  {
   "cell_type": "code",
   "execution_count": 51,
   "metadata": {},
   "outputs": [
    {
     "name": "stdout",
     "output_type": "stream",
     "text": [
      "Accuracy 0.80244 for KNN=2\n",
      "Accuracy 0.80940 for KNN=3\n",
      "Accuracy 0.78590 for KNN=4\n",
      "Accuracy 0.78938 for KNN=5\n",
      "Accuracy 0.77981 for KNN=6\n",
      "Accuracy 0.78590 for KNN=7\n",
      "Accuracy 0.77633 for KNN=8\n",
      "Accuracy 0.78677 for KNN=9\n"
     ]
    }
   ],
   "source": [
    "from sklearn.neighbors import KNeighborsClassifier\n",
    "\n",
    "#Knn\n",
    "\n",
    "for a in range(2, 10):\n",
    "    knn = KNeighborsClassifier(n_neighbors = a)\n",
    "    knn.fit(trainingX, trainingY)\n",
    "    \n",
    "    y_pred = knn.predict(testingX)\n",
    "    \n",
    "    confMatrix = metrics.confusion_matrix(testingY, y_pred)  \n",
    "    accuracy = (confMatrix[1][1]+confMatrix[0][0])/len(y_pred)\n",
    "    print(\"Accuracy %.5f for KNN=%d\" % (accuracy,a))"
   ]
  },
  {
   "cell_type": "code",
   "execution_count": null,
   "metadata": {},
   "outputs": [],
   "source": []
  }
 ],
 "metadata": {
  "kernelspec": {
   "display_name": "Python 3",
   "language": "python",
   "name": "python3"
  },
  "language_info": {
   "codemirror_mode": {
    "name": "ipython",
    "version": 3
   },
   "file_extension": ".py",
   "mimetype": "text/x-python",
   "name": "python",
   "nbconvert_exporter": "python",
   "pygments_lexer": "ipython3",
   "version": "3.6.5"
  }
 },
 "nbformat": 4,
 "nbformat_minor": 2
}
