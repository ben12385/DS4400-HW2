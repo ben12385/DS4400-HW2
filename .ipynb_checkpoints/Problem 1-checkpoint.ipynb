{
 "cells": [
  {
   "cell_type": "code",
   "execution_count": 41,
   "metadata": {},
   "outputs": [
    {
     "name": "stdout",
     "output_type": "stream",
     "text": [
      "Data Preped\n"
     ]
    }
   ],
   "source": [
    "#Extract Data\n",
    "import numpy as np\n",
    "import random\n",
    "import copy\n",
    "\n",
    "datasetFile = open('./spambase.data', 'r')\n",
    "\n",
    "spam = list()\n",
    "notSpam = list()\n",
    "\n",
    "\n",
    "for line in datasetFile:\n",
    "    splitedLine = line.split(',')\n",
    "    for a in range(0, len(splitedLine)):\n",
    "        splitedLine[a] = float(splitedLine[a])\n",
    "    if(splitedLine[-1] == 1):\n",
    "        spam.append(splitedLine)\n",
    "    else:\n",
    "        notSpam.append(splitedLine)\n",
    "\n",
    "#Randomize\n",
    "random.shuffle(spam)\n",
    "random.shuffle(notSpam)\n",
    "\n",
    "training = copy.deepcopy(spam[0:1359])\n",
    "\n",
    "notSpamTraining = copy.deepcopy(notSpam[0:2091])\n",
    "training.extend(notSpamTraining)\n",
    "\n",
    "testing = copy.deepcopy(spam[1359:-1])\n",
    "\n",
    "notSpamTesting = copy.deepcopy(notSpam[2091:-1])\n",
    "testing.extend(notSpamTesting)\n",
    "\n",
    "random.shuffle(training)\n",
    "random.shuffle(testing)\n",
    "\n",
    "trainingX = list()\n",
    "trainingY = list()\n",
    "for row in training:\n",
    "    trainingX.append(row[:-1])\n",
    "    trainingY.append(row[-1])\n",
    "trainingX = np.array(trainingX)\n",
    "\n",
    "\n",
    "trainingY = np.array(trainingY)\n",
    "    \n",
    "trainingX = np.array([row[:-1] for row in training])\n",
    "trainingY = np.array([row[-1] for row in training])\n",
    "\n",
    "testingX = np.array([row[:-1] for row in testing])\n",
    "testingY = np.array([row[-1] for row in testing])\n",
    "\n",
    "print(\"Data Preped\")"
   ]
  },
  {
   "cell_type": "code",
   "execution_count": 44,
   "metadata": {},
   "outputs": [
    {
     "data": {
      "text/plain": [
       "LogisticRegression(C=1.0, class_weight=None, dual=False, fit_intercept=True,\n",
       "          intercept_scaling=1, max_iter=100, multi_class='ovr', n_jobs=1,\n",
       "          penalty='l2', random_state=None, solver='liblinear', tol=0.0001,\n",
       "          verbose=0, warm_start=False)"
      ]
     },
     "execution_count": 44,
     "metadata": {},
     "output_type": "execute_result"
    }
   ],
   "source": [
    "#Train Logistic Regression\n",
    "from sklearn.linear_model import LogisticRegression\n",
    "from sklearn.cross_validation import train_test_split\n",
    "from sklearn import metrics \n",
    "from sklearn.metrics import classification_report\n",
    "\n",
    "logreg = LogisticRegression()\n",
    "logreg.fit(trainingX, trainingY)"
   ]
  },
  {
   "cell_type": "code",
   "execution_count": 49,
   "metadata": {},
   "outputs": [
    {
     "name": "stdout",
     "output_type": "stream",
     "text": [
      "[1. 0. 0. ... 1. 1. 0.]\n",
      "Confusion Matrix\n",
      "[[668  28]\n",
      " [ 43 410]]\n",
      "\n",
      "True Positives: 410\n",
      "False Positives: 28\n",
      "True Negatives: 668\n",
      "False Negatives: 43\n",
      "\n",
      "Accuracy 0.94\n",
      "Error 0.06\n",
      "\n",
      "Precision: 0.94\n",
      "Recall: 0.91\n",
      "F1: 0.92\n",
      "\n",
      "Coefficients\n",
      "[[-3.51316798e-01 -1.93952371e-01  1.31142866e-01  5.93648801e-01\n",
      "   5.28966180e-01  6.61457723e-01  2.02322478e+00  7.24915425e-01\n",
      "   4.21239602e-01  7.59550549e-02  2.20646283e-02 -1.70622397e-01\n",
      "  -1.85531726e-01  1.66338950e-03  7.95097924e-01  8.54982680e-01\n",
      "   7.97729106e-01  9.97683782e-02  8.22983475e-02  8.44049925e-01\n",
      "   2.30015195e-01  2.76200020e-01  2.24080099e+00  9.79641682e-01\n",
      "  -1.55535669e+00 -8.05273324e-01 -3.95661688e+00  3.02588663e-01\n",
      "  -1.19952215e+00 -1.87185916e-01 -5.19936512e-01 -1.79501235e-02\n",
      "  -6.21323776e-01  9.47938542e-02 -9.82569596e-01  6.66135793e-01\n",
      "  -1.99971040e-01 -4.47533471e-01 -6.60618367e-01 -2.11008762e-01\n",
      "  -1.26215966e+00 -1.61459668e+00 -5.15212296e-01 -1.52693278e+00\n",
      "  -6.76292292e-01 -1.46764055e+00 -9.43704430e-01 -1.55588816e+00\n",
      "  -1.03828587e+00 -7.04499907e-02 -2.19155444e-01  4.89316389e-01\n",
      "   3.72246016e+00  1.00809780e+00 -1.64141218e-02  9.30580463e-03\n",
      "   5.94225206e-04]]\n"
     ]
    }
   ],
   "source": [
    "#Apply Logistic Regression\n",
    "y_pred = logreg.predict(testingX)\n",
    "\n",
    "#Metrics\n",
    "print(\"Confusion Matrix\")\n",
    "confMatrix = metrics.confusion_matrix(testingY, y_pred)\n",
    "print(confMatrix)\n",
    "print()\n",
    "\n",
    "print(\"True Positives:\", confMatrix[1][1])\n",
    "print(\"False Positives:\", confMatrix[0][1])\n",
    "print(\"True Negatives:\", confMatrix[0][0])\n",
    "print(\"False Negatives:\", confMatrix[1][0])\n",
    "print()\n",
    "\n",
    "accuracy = (confMatrix[1][1]+confMatrix[0][0])/len(y_pred)\n",
    "print(\"Accuracy %.2f\" % accuracy)\n",
    "print(\"Error %.2f\" % (1-accuracy))\n",
    "print()\n",
    "\n",
    "precision = confMatrix[1][1]/(confMatrix[1][1]+confMatrix[0][1])\n",
    "recall = confMatrix[1][1]/(confMatrix[1][1]+confMatrix[1][0])\n",
    "f1 = 2*(precision*recall)/(precision+recall)\n",
    "print(\"Precision: %.2f\" % precision)\n",
    "print(\"Recall: %.2f\" % recall)\n",
    "print(\"F1: %.2f\" % f1)\n",
    "print()\n",
    "\n",
    "print(\"Coefficients\")\n",
    "print(logreg.coef_)"
   ]
  },
  {
   "cell_type": "code",
   "execution_count": 50,
   "metadata": {},
   "outputs": [],
   "source": [
    "#Varying Decision Threshold\n",
    "\n",
    "for threshold in [0.1, 0.2, 0.3, 0.4, 0.5, 0.6, 0.7, 0.8, 0.9]:\n",
    "    pred_Y = list()\n",
    "    proba = logreg.predict_proba(testingX)\n",
    "    for a in proba:\n",
    "        if(a < threshold):\n",
    "            pred_Y.append(0)\n",
    "        else:\n",
    "            pred_Y.append(1)\n",
    "            \n",
    "    confMatrix = metrics.confusion_matrix(testingY, y_pred)        \n",
    "    \n",
    "    accuracy = (confMatrix[1][1]+confMatrix[0][0])/len(y_pred)\n",
    "    print(\"Accuracy %.2f for %.2f\" % (accuracy,threshold))"
   ]
  },
  {
   "cell_type": "code",
   "execution_count": null,
   "metadata": {},
   "outputs": [],
   "source": []
  }
 ],
 "metadata": {
  "kernelspec": {
   "display_name": "Python 3",
   "language": "python",
   "name": "python3"
  },
  "language_info": {
   "codemirror_mode": {
    "name": "ipython",
    "version": 3
   },
   "file_extension": ".py",
   "mimetype": "text/x-python",
   "name": "python",
   "nbconvert_exporter": "python",
   "pygments_lexer": "ipython3",
   "version": "3.6.5"
  }
 },
 "nbformat": 4,
 "nbformat_minor": 2
}
